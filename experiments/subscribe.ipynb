{
 "cells": [
  {
   "cell_type": "code",
   "execution_count": 29,
   "metadata": {},
   "outputs": [],
   "source": [
    "import socket\n",
    "import time\n",
    "import threading\n",
    "\n",
    "pro_dj_link_begin_bytes = [\n",
    "  0x51, 0x73, 0x70, 0x74, 0x31, 0x57, 0x6d, 0x4a,\n",
    "  0x4f, 0x4c\n",
    "]"
   ]
  },
  {
   "cell_type": "code",
   "execution_count": 30,
   "metadata": {},
   "outputs": [],
   "source": [
    "broadcast_ip = \"192.168.112.255\"\n",
    "interface_ip = \"192.168.112.213\" # yukikaM3 IP address\n",
    "interface_mac_address = \"3c:18:a0:99:7b:20\"\n",
    "\n",
    "def broadcast_packet(packet_bytes, port):\n",
    "    s = socket.socket(socket.AF_INET, socket.SOCK_DGRAM)\n",
    "    s.setsockopt(\n",
    "        socket.SOL_SOCKET, socket.SO_REUSEADDR, 1\n",
    "    )  # Allow the address/port to be reused instantly\n",
    "    s.bind((interface_ip, port))\n",
    "    s.setsockopt(socket.SOL_SOCKET, socket.SO_BROADCAST, 1)  # Enable broadcasting\n",
    "    s.sendto(bytearray(packet_bytes), (broadcast_ip, port))\n",
    "    s.close()\n",
    "\n",
    "# Encode device name to bytes (similar to pro_dj_link_begin_bytes)\n",
    "# should be 20 bytes (padded with 00)\n",
    "# Return as list of bytes\n",
    "def encode_device_name(device_name):\n",
    "    device_name_bytes = device_name.encode('utf-8')\n",
    "    device_name_bytes += b'\\x00' * (20 - len(device_name_bytes))\n",
    "    return list(device_name_bytes)\n",
    "\n",
    "def encode_mac_address(mac_address):\n",
    "    return list(bytes.fromhex(mac_address.replace(':', '')))\n",
    "\n",
    "def encode_ip_address(ip_address):\n",
    "    return list(map(int, ip_address.split('.')))\n",
    "\n",
    "def print_hex(data):\n",
    "    print(\" \".join(\"{:02x}\".format(c) for c in data))"
   ]
  },
  {
   "cell_type": "code",
   "execution_count": 31,
   "metadata": {},
   "outputs": [],
   "source": [
    "# Send first-stage channel number claim\n",
    "# https://djl-analysis.deepsymmetry.org/djl-analysis/startup.html#cdj-assign-stage-1\n",
    "\n",
    "def send_first_stage(n):\n",
    "    packet = pro_dj_link_begin_bytes + [0x00, 0x00] + encode_device_name(\"rekordbox\")\n",
    "    # other stuff + Length of bit idk\n",
    "    packet += [0x01, 0x03, 0x00, 0x2c]\n",
    "    # n should go 1-3 on each packet\n",
    "    packet += [n]\n",
    "    # thing\n",
    "    packet += [0x01]\n",
    "    # mac address\n",
    "    packet += encode_mac_address(interface_mac_address)\n",
    "\n",
    "    broadcast_packet(packet, 50000)\n",
    "\n",
    "# Send 3 times\n",
    "for i in range(3):\n",
    "    send_first_stage(i+1)\n",
    "    time.sleep(0.03)"
   ]
  },
  {
   "cell_type": "code",
   "execution_count": 32,
   "metadata": {},
   "outputs": [],
   "source": [
    "# Send second-stage channel number claim\n",
    "# Send first-stage channel number claim\n",
    "# https://djl-analysis.deepsymmetry.org/djl-analysis/startup.html#cdj-assign-stage-2\n",
    "\n",
    "def send_second_stage(d, n):\n",
    "    packet = pro_dj_link_begin_bytes + [0x02, 0x00] + encode_device_name(\"rekordbox\")\n",
    "    # other stuff + Length of bit idk\n",
    "    packet += [0x01, 0x03, 0x00, 0x32]\n",
    "    # ip address\n",
    "    packet += encode_ip_address(interface_ip)\n",
    "    # mac address\n",
    "    packet += encode_mac_address(interface_mac_address)\n",
    "    # d\n",
    "    packet += [d]\n",
    "    # n\n",
    "    packet += [n]\n",
    "    # idk\n",
    "    packet += [0x04, 0x01]\n",
    "\n",
    "    broadcast_packet(packet, 50000)\n",
    "\n",
    "# d we need to send\n",
    "d_needed = [0x11, 0x12, 0x29, 0x2a, 0x2b, 0x2c]\n",
    "\n",
    "for i in range(6):\n",
    "    for d in d_needed:\n",
    "        send_second_stage(d, i+1)\n",
    "        time.sleep(0.03)"
   ]
  },
  {
   "cell_type": "code",
   "execution_count": 33,
   "metadata": {},
   "outputs": [
    {
     "ename": "KeyboardInterrupt",
     "evalue": "",
     "output_type": "error",
     "traceback": [
      "\u001b[0;31m---------------------------------------------------------------------------\u001b[0m",
      "\u001b[0;31mKeyboardInterrupt\u001b[0m                         Traceback (most recent call last)",
      "Cell \u001b[0;32mIn[33], line 25\u001b[0m\n\u001b[1;32m     23\u001b[0m \u001b[38;5;28;01mfor\u001b[39;00m d \u001b[38;5;129;01min\u001b[39;00m d_needed:\n\u001b[1;32m     24\u001b[0m     send_keep_alive(d)\n\u001b[0;32m---> 25\u001b[0m     \u001b[43mtime\u001b[49m\u001b[38;5;241;43m.\u001b[39;49m\u001b[43msleep\u001b[49m\u001b[43m(\u001b[49m\u001b[38;5;241;43m2\u001b[39;49m\u001b[43m)\u001b[49m\n",
      "\u001b[0;31mKeyboardInterrupt\u001b[0m: "
     ]
    }
   ],
   "source": [
    "# Keep alive\n",
    "# https://djl-analysis.deepsymmetry.org/djl-analysis/startup.html#cdj-keep-alive\n",
    "\n",
    "def send_keep_alive(d):\n",
    "    packet = pro_dj_link_begin_bytes + [0x06, 0x00] + encode_device_name(\"rekordbox\")\n",
    "    # other stuff + Length of bit idk\n",
    "    packet += [0x01, 0x03, 0x00, 0x36]\n",
    "    # d\n",
    "    packet += [d]\n",
    "    # idk\n",
    "    packet += [0x11]\n",
    "    # mac address\n",
    "    packet += encode_mac_address(interface_mac_address)\n",
    "    # ip address\n",
    "    packet += encode_ip_address(interface_ip)\n",
    "    # idk\n",
    "    packet += [0x01, 0x01, 0x00, 0x00, 0x04, 0x08]\n",
    "\n",
    "    broadcast_packet(packet, 50000)\n",
    "\n",
    "# Send keep alive every 2 seconds\n",
    "while True:\n",
    "    for d in d_needed:\n",
    "        send_keep_alive(d)\n",
    "        time.sleep(2)"
   ]
  }
 ],
 "metadata": {
  "kernelspec": {
   "display_name": "yunjin3000",
   "language": "python",
   "name": "python3"
  },
  "language_info": {
   "codemirror_mode": {
    "name": "ipython",
    "version": 3
   },
   "file_extension": ".py",
   "mimetype": "text/x-python",
   "name": "python",
   "nbconvert_exporter": "python",
   "pygments_lexer": "ipython3",
   "version": "3.12.2"
  }
 },
 "nbformat": 4,
 "nbformat_minor": 2
}
